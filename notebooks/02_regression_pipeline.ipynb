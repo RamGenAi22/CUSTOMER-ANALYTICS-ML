{
 "cells": [
  {
   "cell_type": "code",
   "execution_count": 1,
   "id": "59c12fbb-5ec1-4086-b332-ef7a05097aaf",
   "metadata": {},
   "outputs": [],
   "source": [
    "import pandas as pd\n",
    "from sklearn.model_selection import train_test_split\n",
    "from sklearn.linear_model import Ridge\n",
    "from sklearn.pipeline import Pipeline\n",
    "from sklearn.compose import ColumnTransformer\n",
    "from sklearn.preprocessing import StandardScaler, OneHotEncoder\n",
    "from sklearn.metrics import mean_squared_error, r2_score\n",
    "import joblib"
   ]
  },
  {
   "cell_type": "code",
   "execution_count": 3,
   "id": "1c80d5c1-b8b1-4450-9daf-96c73d8b9506",
   "metadata": {},
   "outputs": [],
   "source": [
    "df = pd.read_csv(\"../data/processed/telco_clean.csv\")"
   ]
  },
  {
   "cell_type": "code",
   "execution_count": 5,
   "id": "57e7f0ca-06e7-4e65-9145-404c387f2ef6",
   "metadata": {},
   "outputs": [],
   "source": [
    "X = df.drop(['customerID', 'MonthlyCharges','Churn'],axis =1)\n",
    "y = df['MonthlyCharges']"
   ]
  },
  {
   "cell_type": "code",
   "execution_count": 8,
   "id": "971648df-31bd-4d95-a179-1c0f320b45f6",
   "metadata": {},
   "outputs": [
    {
     "name": "stdout",
     "output_type": "stream",
     "text": [
      "Index(['gender', 'Partner', 'Dependents', 'PhoneService', 'MultipleLines',\n",
      "       'InternetService', 'OnlineSecurity', 'OnlineBackup', 'DeviceProtection',\n",
      "       'TechSupport', 'StreamingTV', 'StreamingMovies', 'Contract',\n",
      "       'PaperlessBilling', 'PaymentMethod'],\n",
      "      dtype='object')\n",
      "Index(['SeniorCitizen', 'tenure', 'TotalCharges'], dtype='object')\n"
     ]
    }
   ],
   "source": [
    "cat_cols = X.select_dtypes(include=[\"object\"]).columns\n",
    "print(cat_cols)\n",
    "num_cols = X.select_dtypes(exclude=[\"object\"]).columns\n",
    "print(num_cols)"
   ]
  },
  {
   "cell_type": "code",
   "execution_count": 9,
   "id": "f36f2a19-4563-4825-8cf2-c4a59a8cbd79",
   "metadata": {},
   "outputs": [],
   "source": [
    "preprocessor = ColumnTransformer([\n",
    "    (\"num\", StandardScaler(),num_cols),\n",
    "    (\"cat\", OneHotEncoder(handle_unknown=\"ignore\"), cat_cols)\n",
    "])"
   ]
  },
  {
   "cell_type": "code",
   "execution_count": 10,
   "id": "e463347f-182b-4b7d-8060-18d08c205901",
   "metadata": {},
   "outputs": [],
   "source": [
    "pipe = Pipeline([\n",
    "    (\"preprocess\", preprocessor),\n",
    "    (\"model\", Ridge(alpha=1.0))\n",
    "])"
   ]
  },
  {
   "cell_type": "code",
   "execution_count": 12,
   "id": "1d798d47-2f01-42d2-83b6-e4595606f03a",
   "metadata": {},
   "outputs": [],
   "source": [
    "X_train, X_test, y_train, y_test = train_test_split(X,y,\n",
    "                                                    test_size=0.2,\n",
    "                                                    random_state =42\n",
    "                                                   )"
   ]
  },
  {
   "cell_type": "code",
   "execution_count": 13,
   "id": "e26c9eeb-39c2-4312-a444-65144403b7da",
   "metadata": {},
   "outputs": [],
   "source": [
    "pipe.fit(X_train, y_train)\n",
    "y_pred = pipe.predict(X_test)"
   ]
  },
  {
   "cell_type": "code",
   "execution_count": 21,
   "id": "d838735e-77d5-4d6a-8e41-f71f5498b6ac",
   "metadata": {},
   "outputs": [
    {
     "name": "stdout",
     "output_type": "stream",
     "text": [
      "MSE: 1.075837078099733\n",
      "R2 Score: 0.9987826768926218\n"
     ]
    }
   ],
   "source": [
    "print(\"MSE:\", mean_squared_error(y_test,y_pred))\n",
    "print(\"R2 Score:\", r2_score(y_test, y_pred))"
   ]
  },
  {
   "cell_type": "code",
   "execution_count": 22,
   "id": "97e04e54-4244-4de9-98b3-2a6c94904f8d",
   "metadata": {},
   "outputs": [
    {
     "data": {
      "text/plain": [
       "['../models/regression.pkl']"
      ]
     },
     "execution_count": 22,
     "metadata": {},
     "output_type": "execute_result"
    }
   ],
   "source": [
    "joblib.dump(pipe, \"../models/regression.pkl\")"
   ]
  },
  {
   "cell_type": "code",
   "execution_count": null,
   "id": "5a89f3d0-8ec4-447f-8bc5-ad3735c7b157",
   "metadata": {},
   "outputs": [],
   "source": []
  }
 ],
 "metadata": {
  "kernelspec": {
   "display_name": "Python [conda env:base] *",
   "language": "python",
   "name": "conda-base-py"
  },
  "language_info": {
   "codemirror_mode": {
    "name": "ipython",
    "version": 3
   },
   "file_extension": ".py",
   "mimetype": "text/x-python",
   "name": "python",
   "nbconvert_exporter": "python",
   "pygments_lexer": "ipython3",
   "version": "3.13.5"
  }
 },
 "nbformat": 4,
 "nbformat_minor": 5
}
